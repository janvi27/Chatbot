{
 "cells": [
  {
   "cell_type": "code",
   "execution_count": 1,
   "metadata": {},
   "outputs": [],
   "source": [
    "from imutils.object_detection import non_max_suppression\n",
    "import numpy as np\n",
    "import argparse\n",
    "import time\n",
    "import cv2\n",
    "import os\n",
    "import pytesseract\n",
    "from matplotlib import pyplot as plt\n",
    "%matplotlib inline\n",
    "import urllib.request"
   ]
  },
  {
   "cell_type": "code",
   "execution_count": 2,
   "metadata": {},
   "outputs": [],
   "source": [
    "from twilio.rest import Client"
   ]
  },
  {
   "cell_type": "code",
   "execution_count": 17,
   "metadata": {},
   "outputs": [],
   "source": [
    "import PIL"
   ]
  },
  {
   "cell_type": "code",
   "execution_count": 3,
   "metadata": {},
   "outputs": [],
   "source": [
    "pytesseract.pytesseract.tesseract_cmd = r'/usr/bin/tesseract'"
   ]
  },
  {
   "cell_type": "code",
   "execution_count": 4,
   "metadata": {},
   "outputs": [],
   "source": [
    "args = {\"east\":\"/home/janhavi/Documents/chatbot/Datasets/frozen_east_text_detection.pb\", \"min_confidence\":0.1, \"width\":320, \"height\":320}"
   ]
  },
  {
   "cell_type": "code",
   "execution_count": 31,
   "metadata": {},
   "outputs": [],
   "source": [
    "def resize(url):\n",
    "    #image = np.asarray(bytearray(urllib.request.urlopen(url).read()), dtype=\"uint8\")\n",
    "    #open_cv_image = np.array(pil_image) \n",
    "    image = cv2.imread(url, cv2.IMREAD_COLOR)\n",
    "    orig = image.copy()\n",
    "    (origH, origW) = image.shape[:2]\n",
    "    (newW, newH) = (args['width'], args['height'])\n",
    "    rW = origW / float(newW)\n",
    "    rH = origH / float(newH)\n",
    "    image = cv2.resize(image, (newW, newH))\n",
    "    (H, W) = image.shape[:2]\n",
    "    return orig, image, H, W, rH, rW"
   ]
  },
  {
   "cell_type": "code",
   "execution_count": 6,
   "metadata": {},
   "outputs": [],
   "source": [
    "def EAST(image):\n",
    "    blob = cv2.dnn.blobFromImage(image, 1.0, (W, H), (123.68, 116.78, 103.94), swapRB=True, crop=False)\n",
    "    net = cv2.dnn.readNet(\"frozen_east_text_detection.pb\")\n",
    "    layerNames = [\"feature_fusion/Conv_7/Sigmoid\",\"feature_fusion/concat_3\"]\n",
    "    net.setInput(blob)\n",
    "    (scores, geometry) = net.forward(layerNames)\n",
    "    return (scores, geometry)    "
   ]
  },
  {
   "cell_type": "code",
   "execution_count": 7,
   "metadata": {},
   "outputs": [],
   "source": [
    "def predictions(prob_score, geo):\n",
    "    (numR, numC) = prob_score.shape[2:4]\n",
    "    boxes = []\n",
    "    confidence_val = []\n",
    "    count = 0\n",
    "    \n",
    "    for y in range(0,numR):\n",
    "        scoresData = prob_score[0,0,y]\n",
    "        x0 = geo[0, 0, y]\n",
    "        x1 = geo[0, 1, y]\n",
    "        x2 = geo[0, 2, y]\n",
    "        x3 = geo[0, 3, y]\n",
    "        anglesData = geo[0, 4, y]\n",
    "        \n",
    "        for i in range(0,numC):\n",
    "            if scoresData[i] < 0.5:\n",
    "                continue\n",
    "\n",
    "            (offX, offY) = (i * 4.0, y * 4.0)\n",
    "\n",
    "            angle = anglesData[i]\n",
    "            cos = np.cos(angle)\n",
    "            sin = np.sin(angle)\n",
    "\n",
    "            h = x0[i] + x2[i]\n",
    "            w = x1[i] + x3[i]\n",
    "\n",
    "            endX = int(offX + (cos * x1[i]) + (sin * x2[i]))\n",
    "            endY = int(offY - (sin * x1[i]) + (cos * x2[i]))\n",
    "            startX = int(endX - w)\n",
    "            startY = int(endY - h)\n",
    "\n",
    "            boxes.append((startX, startY, endX, endY))\n",
    "            confidence_val.append(scoresData[i])\n",
    "    \n",
    "    return (boxes, confidence_val)"
   ]
  },
  {
   "cell_type": "code",
   "execution_count": 8,
   "metadata": {},
   "outputs": [],
   "source": [
    "def predict_text(orig, image, rH, rW):\n",
    "    scores, geometry = EAST(image)\n",
    "    boxes, confidence_val = predictions(scores, geometry)\n",
    "    boxes = non_max_suppression(np.array(boxes), probs = confidence_val)\n",
    "    results = []\n",
    "    words = []\n",
    "    for (startX, startY, endX, endY) in boxes:\n",
    "        startX = int(startX * rW)\n",
    "        startY = int(startY * rH)\n",
    "        endX = int(endX * rW)\n",
    "        endY = int(endY * rH)\n",
    "\n",
    "        r = orig[startY:endY, startX:endX]  \n",
    "        gray = cv2.cvtColor(r, cv2.COLOR_BGR2GRAY)\n",
    "        (thresh, blackAndWhiteImage) = cv2.threshold(gray, 127, 255, cv2.THRESH_BINARY)\n",
    "        text = pytesseract.image_to_string(blackAndWhiteImage, config = \"-l eng --oem 1 --psm 8\")\n",
    "        words.append(text)\n",
    "    return words"
   ]
  },
  {
   "cell_type": "code",
   "execution_count": null,
   "metadata": {},
   "outputs": [],
   "source": [
    "url = 'https://api.twilio.com/2010-04-01/Accounts/AC5fc241cde4594aab7638ad8ca6062e28/Messages/MM03b0f5ae9b06b811b6ebe94048f35020/Media/MEdd59e88a6fd0664f1f19d1259df7386a.json'\n",
    "orig, image, H, W, rH, rW = resize(url)\n",
    "predict = predict_text(orig, image, rH, rW)"
   ]
  },
  {
   "cell_type": "code",
   "execution_count": 9,
   "metadata": {},
   "outputs": [],
   "source": [
    "client = Client('AC5fc241cde4594aab7638ad8ca6062e28', '49baa4b9a3221c718ef09348140fd703')"
   ]
  },
  {
   "cell_type": "code",
   "execution_count": 10,
   "metadata": {},
   "outputs": [],
   "source": [
    "media = client.messages('MM03b0f5ae9b06b811b6ebe94048f35020').media('MEdd59e88a6fd0664f1f19d1259df7386a').fetch()"
   ]
  },
  {
   "cell_type": "code",
   "execution_count": 11,
   "metadata": {},
   "outputs": [
    {
     "data": {
      "text/plain": [
       "<Twilio.Api.V2010.MediaInstance account_sid=AC5fc241cde4594aab7638ad8ca6062e28 message_sid=MM03b0f5ae9b06b811b6ebe94048f35020 sid=MEdd59e88a6fd0664f1f19d1259df7386a>"
      ]
     },
     "execution_count": 11,
     "metadata": {},
     "output_type": "execute_result"
    }
   ],
   "source": [
    "media"
   ]
  },
  {
   "cell_type": "code",
   "execution_count": 12,
   "metadata": {},
   "outputs": [],
   "source": [
    "import requests"
   ]
  },
  {
   "cell_type": "code",
   "execution_count": 13,
   "metadata": {},
   "outputs": [],
   "source": [
    "url = 'https://api.twilio.com/2010-04-01/Accounts/AC5fc241cde4594aab7638ad8ca6062e28/Messages/MM03b0f5ae9b06b811b6ebe94048f35020/Media/MEdd59e88a6fd0664f1f19d1259df7386a'"
   ]
  },
  {
   "cell_type": "code",
   "execution_count": 14,
   "metadata": {},
   "outputs": [],
   "source": [
    "filename = media.sid + '.png'"
   ]
  },
  {
   "cell_type": "code",
   "execution_count": 15,
   "metadata": {},
   "outputs": [],
   "source": [
    "THIS_FOLDER = os.path.dirname(os.path.abspath(filename))\n",
    "with open('{}/{}'.format(THIS_FOLDER, filename),'wb') as f:\n",
    "    image_url = url\n",
    "    f.write(requests.get(image_url).content)"
   ]
  },
  {
   "cell_type": "code",
   "execution_count": 34,
   "metadata": {},
   "outputs": [],
   "source": [
    "orig, image, H, W, rH, rW = resize(filename)\n",
    "predict = predict_text(orig, image, rH, rW)\n",
    "os.remove(filename)"
   ]
  },
  {
   "cell_type": "code",
   "execution_count": 35,
   "metadata": {},
   "outputs": [
    {
     "data": {
      "text/plain": [
       "['CROSSING', 'STOP', 'SESTRIAN']"
      ]
     },
     "execution_count": 35,
     "metadata": {},
     "output_type": "execute_result"
    }
   ],
   "source": [
    "predict"
   ]
  },
  {
   "cell_type": "code",
   "execution_count": null,
   "metadata": {},
   "outputs": [],
   "source": []
  }
 ],
 "metadata": {
  "kernelspec": {
   "display_name": "Python 3",
   "language": "python",
   "name": "python3"
  },
  "language_info": {
   "codemirror_mode": {
    "name": "ipython",
    "version": 3
   },
   "file_extension": ".py",
   "mimetype": "text/x-python",
   "name": "python",
   "nbconvert_exporter": "python",
   "pygments_lexer": "ipython3",
   "version": "3.6.9"
  }
 },
 "nbformat": 4,
 "nbformat_minor": 4
}
