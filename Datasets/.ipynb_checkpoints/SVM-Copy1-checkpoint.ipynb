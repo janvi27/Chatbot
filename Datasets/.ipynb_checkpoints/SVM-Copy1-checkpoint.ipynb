{
 "cells": [
  {
   "cell_type": "code",
   "execution_count": 1,
   "metadata": {},
   "outputs": [],
   "source": [
    "import pandas as pd\n",
    "import numpy as np\n",
    "import nltk as nlp\n",
    "import sklearn\n",
    "import matplotlib as plt\n",
    "%matplotlib inline"
   ]
  },
  {
   "cell_type": "code",
   "execution_count": 2,
   "metadata": {},
   "outputs": [],
   "source": [
    "from sklearn.svm import SVC as model\n",
    "from sklearn.pipeline import Pipeline\n",
    "from sklearn.model_selection import train_test_split\n",
    "from sklearn.feature_extraction.text import TfidfVectorizer\n",
    "from sklearn.feature_extraction.text import TfidfTransformer"
   ]
  },
  {
   "cell_type": "code",
   "execution_count": 3,
   "metadata": {},
   "outputs": [],
   "source": [
    "from sklearn import metrics"
   ]
  },
  {
   "cell_type": "code",
   "execution_count": null,
   "metadata": {},
   "outputs": [],
   "source": [
    "#fake = pd.read_csv('./fake-and-real-news-dataset/Fake.csv')\n",
    "#real = pd.read_csv('./fake-and-real-news-dataset/True.csv')"
   ]
  },
  {
   "cell_type": "code",
   "execution_count": 4,
   "metadata": {},
   "outputs": [
    {
     "data": {
      "text/html": [
       "<div>\n",
       "<style scoped>\n",
       "    .dataframe tbody tr th:only-of-type {\n",
       "        vertical-align: middle;\n",
       "    }\n",
       "\n",
       "    .dataframe tbody tr th {\n",
       "        vertical-align: top;\n",
       "    }\n",
       "\n",
       "    .dataframe thead th {\n",
       "        text-align: right;\n",
       "    }\n",
       "</style>\n",
       "<table border=\"1\" class=\"dataframe\">\n",
       "  <thead>\n",
       "    <tr style=\"text-align: right;\">\n",
       "      <th></th>\n",
       "      <th>Unnamed: 0</th>\n",
       "      <th>Text</th>\n",
       "      <th>Label</th>\n",
       "    </tr>\n",
       "  </thead>\n",
       "  <tbody>\n",
       "    <tr>\n",
       "      <th>0</th>\n",
       "      <td>0</td>\n",
       "      <td>Large-scale political protests are typically a...</td>\n",
       "      <td>0</td>\n",
       "    </tr>\n",
       "    <tr>\n",
       "      <th>1</th>\n",
       "      <td>1</td>\n",
       "      <td>Any time large, widespread political protests ...</td>\n",
       "      <td>0</td>\n",
       "    </tr>\n",
       "    <tr>\n",
       "      <th>2</th>\n",
       "      <td>2</td>\n",
       "      <td>On May 31, 2020, the W24 news website publishe...</td>\n",
       "      <td>0</td>\n",
       "    </tr>\n",
       "    <tr>\n",
       "      <th>3</th>\n",
       "      <td>3</td>\n",
       "      <td>As protests swept the U.S. over the police-cus...</td>\n",
       "      <td>0</td>\n",
       "    </tr>\n",
       "    <tr>\n",
       "      <th>4</th>\n",
       "      <td>4</td>\n",
       "      <td>In May 2020, an image supposedly showing U.S. ...</td>\n",
       "      <td>0</td>\n",
       "    </tr>\n",
       "    <tr>\n",
       "      <th>...</th>\n",
       "      <td>...</td>\n",
       "      <td>...</td>\n",
       "      <td>...</td>\n",
       "    </tr>\n",
       "    <tr>\n",
       "      <th>29071</th>\n",
       "      <td>29071</td>\n",
       "      <td>neither appear interview motivated world . too...</td>\n",
       "      <td>10</td>\n",
       "    </tr>\n",
       "    <tr>\n",
       "      <th>29072</th>\n",
       "      <td>29072</td>\n",
       "      <td>the s remarks.Aside Although Bild largest publ...</td>\n",
       "      <td>10</td>\n",
       "    </tr>\n",
       "    <tr>\n",
       "      <th>29073</th>\n",
       "      <td>29073</td>\n",
       "      <td>funding any an , motivated in Soros quote such...</td>\n",
       "      <td>10</td>\n",
       "    </tr>\n",
       "    <tr>\n",
       "      <th>29074</th>\n",
       "      <td>29074</td>\n",
       "      <td>we newspaper 2016 an “ Clinton . be issued als...</td>\n",
       "      <td>10</td>\n",
       "    </tr>\n",
       "    <tr>\n",
       "      <th>29075</th>\n",
       "      <td>29075</td>\n",
       "      <td>iteration candidates in highly s in ) Although...</td>\n",
       "      <td>10</td>\n",
       "    </tr>\n",
       "  </tbody>\n",
       "</table>\n",
       "<p>29076 rows × 3 columns</p>\n",
       "</div>"
      ],
      "text/plain": [
       "       Unnamed: 0                                               Text  Label\n",
       "0               0  Large-scale political protests are typically a...      0\n",
       "1               1  Any time large, widespread political protests ...      0\n",
       "2               2  On May 31, 2020, the W24 news website publishe...      0\n",
       "3               3  As protests swept the U.S. over the police-cus...      0\n",
       "4               4  In May 2020, an image supposedly showing U.S. ...      0\n",
       "...           ...                                                ...    ...\n",
       "29071       29071  neither appear interview motivated world . too...     10\n",
       "29072       29072  the s remarks.Aside Although Bild largest publ...     10\n",
       "29073       29073  funding any an , motivated in Soros quote such...     10\n",
       "29074       29074  we newspaper 2016 an “ Clinton . be issued als...     10\n",
       "29075       29075  iteration candidates in highly s in ) Although...     10\n",
       "\n",
       "[29076 rows x 3 columns]"
      ]
     },
     "execution_count": 4,
     "metadata": {},
     "output_type": "execute_result"
    }
   ],
   "source": [
    "#fake['label'] = 0\n",
    "#real['label'] = 1\n",
    "data = pd.read_csv('./Snopes_aug.csv')\n",
    "data"
   ]
  },
  {
   "cell_type": "code",
   "execution_count": 5,
   "metadata": {},
   "outputs": [],
   "source": [
    "data = data.sample(frac=1)"
   ]
  },
  {
   "cell_type": "code",
   "execution_count": 6,
   "metadata": {},
   "outputs": [],
   "source": [
    "X = data['Text']\n",
    "y = data['Label']"
   ]
  },
  {
   "cell_type": "code",
   "execution_count": null,
   "metadata": {},
   "outputs": [],
   "source": [
    "#preprocessing:\n",
    "X = X.str.lower()\n",
    "X = X.str.replace('[^\\w\\s]','')\n",
    "X = X.apply(lambda row: nlp.word_tokenize(row))\n",
    "stop = nlp.corpus.stopwords.words('english')\n",
    "X = X.apply(lambda x: [item for item in x if item not in stop])"
   ]
  },
  {
   "cell_type": "code",
   "execution_count": 7,
   "metadata": {},
   "outputs": [],
   "source": [
    "vectorizer = TfidfVectorizer(sublinear_tf = True, min_df = 5, norm='l2', encoding='latin-1', ngram_range=(1, 2), stop_words='english', lowercase=False)"
   ]
  },
  {
   "cell_type": "code",
   "execution_count": 8,
   "metadata": {},
   "outputs": [],
   "source": [
    "features = vectorizer.fit_transform(X)"
   ]
  },
  {
   "cell_type": "code",
   "execution_count": 9,
   "metadata": {},
   "outputs": [],
   "source": [
    "from sklearn.feature_extraction.text import CountVectorizer\n",
    "from sklearn.naive_bayes import MultinomialNB\n",
    "X_train, X_test, y_train, y_test = train_test_split(X,y, test_size = 0.3)\n",
    "count_vect = CountVectorizer()\n",
    "X_train_counts = count_vect.fit_transform(X_train)\n",
    "tfidf_transformer = TfidfTransformer()\n",
    "X_train_tfidf = tfidf_transformer.fit_transform(X_train_counts)"
   ]
  },
  {
   "cell_type": "code",
   "execution_count": null,
   "metadata": {},
   "outputs": [],
   "source": [
    "X_train_tfidf, y_train.shape"
   ]
  },
  {
   "cell_type": "code",
   "execution_count": null,
   "metadata": {},
   "outputs": [],
   "source": [
    "X_train, X_test, y_train, y_test = train_test_split(X,y, test_size = 0.3)"
   ]
  },
  {
   "cell_type": "code",
   "execution_count": null,
   "metadata": {},
   "outputs": [],
   "source": [
    "vectors = vectorizer.fit_transform(X_train.values.ravel())"
   ]
  },
  {
   "cell_type": "code",
   "execution_count": null,
   "metadata": {},
   "outputs": [],
   "source": [
    "row, col = vectors.shape\n",
    "vectors = vectors.reshape(y_train.shape[0], int((row*col)/y_train.shape[0]))"
   ]
  },
  {
   "cell_type": "code",
   "execution_count": 10,
   "metadata": {},
   "outputs": [],
   "source": [
    "classifier = MultinomialNB()"
   ]
  },
  {
   "cell_type": "code",
   "execution_count": 11,
   "metadata": {},
   "outputs": [
    {
     "data": {
      "text/plain": [
       "MultinomialNB()"
      ]
     },
     "execution_count": 11,
     "metadata": {},
     "output_type": "execute_result"
    }
   ],
   "source": [
    "classifier.fit(X_train_tfidf, y_train.values.ravel())"
   ]
  },
  {
   "cell_type": "code",
   "execution_count": 12,
   "metadata": {},
   "outputs": [],
   "source": [
    "X_test_counts = count_vect.transform(X_test)"
   ]
  },
  {
   "cell_type": "code",
   "execution_count": 13,
   "metadata": {},
   "outputs": [],
   "source": [
    "prediction = classifier.predict(X_test_counts)"
   ]
  },
  {
   "cell_type": "code",
   "execution_count": null,
   "metadata": {},
   "outputs": [],
   "source": [
    "classifier.fit(vectors, y_train.values.ravel())"
   ]
  },
  {
   "cell_type": "code",
   "execution_count": null,
   "metadata": {},
   "outputs": [],
   "source": [
    "test_vectors = vectorizer.transform(X_test.values.ravel())"
   ]
  },
  {
   "cell_type": "code",
   "execution_count": null,
   "metadata": {},
   "outputs": [],
   "source": [
    "row, col = test_vectors.shape\n",
    "test_vectors = test_vectors.reshape(y_test.shape[0], int((row*col)/y_test.shape[0]))"
   ]
  },
  {
   "cell_type": "code",
   "execution_count": null,
   "metadata": {},
   "outputs": [],
   "source": [
    "prediction = classifier.predict(test_vectors)"
   ]
  },
  {
   "cell_type": "code",
   "execution_count": 14,
   "metadata": {},
   "outputs": [],
   "source": [
    "accuracy = metrics.accuracy_score(y_test, prediction)"
   ]
  },
  {
   "cell_type": "code",
   "execution_count": 15,
   "metadata": {},
   "outputs": [
    {
     "data": {
      "text/plain": [
       "0.16221483434598188"
      ]
     },
     "execution_count": 15,
     "metadata": {},
     "output_type": "execute_result"
    }
   ],
   "source": [
    "accuracy"
   ]
  },
  {
   "cell_type": "code",
   "execution_count": null,
   "metadata": {},
   "outputs": [],
   "source": [
    "text = ['NEW DELHI: An Air India aircraft winging its way from Delhi to Moscow on Saturday morning had to be called back to Delhi from over Uzbekistan after the airline realised that one of the pilots onboard had tested corona positive. An oversight by the team checking pre-flight test reports of crew members had mistakenly read this captain’s positive report as negative and released him for the ferry flight (meaning with no passengers and only crew) to fly back Indians from Moscow.\\nThe Airbus A-320 Neo (VT-EXR) returned to Delhi at about 12.30 pm and now the crew will be quarantined as per norms. This plane will be fumigated and the airline is sending another A320 Neo to Moscow later on Saturday afternoon to fly back Indians from there.']"
   ]
  },
  {
   "cell_type": "code",
   "execution_count": null,
   "metadata": {},
   "outputs": [],
   "source": [
    "#test = pd.DataFrame(text)\n",
    "#test"
   ]
  },
  {
   "cell_type": "code",
   "execution_count": null,
   "metadata": {},
   "outputs": [],
   "source": [
    "#test_vector = vectorizer.transform(test.values.ravel())"
   ]
  },
  {
   "cell_type": "code",
   "execution_count": null,
   "metadata": {},
   "outputs": [],
   "source": [
    "#row, col = test_vector.shape\n",
    "#test_vector = test_vector.reshape(1, row*col)"
   ]
  },
  {
   "cell_type": "code",
   "execution_count": null,
   "metadata": {},
   "outputs": [],
   "source": [
    "#prediction = svc.predict(test_vector)\n",
    "#end = time.time()"
   ]
  },
  {
   "cell_type": "code",
   "execution_count": 16,
   "metadata": {},
   "outputs": [
    {
     "name": "stderr",
     "output_type": "stream",
     "text": [
      "/home/janhavi/.local/lib/python3.6/site-packages/sklearn/model_selection/_validation.py:552: FitFailedWarning: Estimator fit failed. The score on this train-test partition for these parameters will be set to nan. Details: \n",
      "Traceback (most recent call last):\n",
      "  File \"/home/janhavi/.local/lib/python3.6/site-packages/sklearn/model_selection/_validation.py\", line 531, in _fit_and_score\n",
      "    estimator.fit(X_train, y_train, **fit_params)\n",
      "  File \"/home/janhavi/.local/lib/python3.6/site-packages/sklearn/linear_model/_logistic.py\", line 1415, in fit\n",
      "    for class_, warm_start_coef_ in zip(classes_, warm_start_coef))\n",
      "  File \"/home/janhavi/.local/lib/python3.6/site-packages/joblib/parallel.py\", line 1029, in __call__\n",
      "    if self.dispatch_one_batch(iterator):\n",
      "  File \"/home/janhavi/.local/lib/python3.6/site-packages/joblib/parallel.py\", line 847, in dispatch_one_batch\n",
      "    self._dispatch(tasks)\n",
      "  File \"/home/janhavi/.local/lib/python3.6/site-packages/joblib/parallel.py\", line 765, in _dispatch\n",
      "    job = self._backend.apply_async(batch, callback=cb)\n",
      "  File \"/home/janhavi/.local/lib/python3.6/site-packages/joblib/_parallel_backends.py\", line 206, in apply_async\n",
      "    result = ImmediateResult(func)\n",
      "  File \"/home/janhavi/.local/lib/python3.6/site-packages/joblib/_parallel_backends.py\", line 570, in __init__\n",
      "    self.results = batch()\n",
      "  File \"/home/janhavi/.local/lib/python3.6/site-packages/joblib/parallel.py\", line 253, in __call__\n",
      "    for func, args, kwargs in self.items]\n",
      "  File \"/home/janhavi/.local/lib/python3.6/site-packages/joblib/parallel.py\", line 253, in <listcomp>\n",
      "    for func, args, kwargs in self.items]\n",
      "  File \"/home/janhavi/.local/lib/python3.6/site-packages/sklearn/linear_model/_logistic.py\", line 758, in _logistic_regression_path\n",
      "    options={\"iprint\": iprint, \"gtol\": tol, \"maxiter\": max_iter}\n",
      "  File \"/home/janhavi/.local/lib/python3.6/site-packages/scipy/optimize/_minimize.py\", line 610, in minimize\n",
      "    callback=callback, **options)\n",
      "  File \"/home/janhavi/.local/lib/python3.6/site-packages/scipy/optimize/lbfgsb.py\", line 322, in _minimize_lbfgsb\n",
      "    wa = zeros(2*m*n + 5*n + 11*m*m + 8*m, float64)\n",
      "MemoryError: Unable to allocate 1.14 GiB for an array with shape (153541430,) and data type float64\n",
      "\n",
      "  FitFailedWarning)\n",
      "/home/janhavi/.local/lib/python3.6/site-packages/sklearn/model_selection/_validation.py:552: FitFailedWarning: Estimator fit failed. The score on this train-test partition for these parameters will be set to nan. Details: \n",
      "Traceback (most recent call last):\n",
      "  File \"/home/janhavi/.local/lib/python3.6/site-packages/sklearn/model_selection/_validation.py\", line 531, in _fit_and_score\n",
      "    estimator.fit(X_train, y_train, **fit_params)\n",
      "  File \"/home/janhavi/.local/lib/python3.6/site-packages/sklearn/linear_model/_logistic.py\", line 1415, in fit\n",
      "    for class_, warm_start_coef_ in zip(classes_, warm_start_coef))\n",
      "  File \"/home/janhavi/.local/lib/python3.6/site-packages/joblib/parallel.py\", line 1029, in __call__\n",
      "    if self.dispatch_one_batch(iterator):\n",
      "  File \"/home/janhavi/.local/lib/python3.6/site-packages/joblib/parallel.py\", line 847, in dispatch_one_batch\n",
      "    self._dispatch(tasks)\n",
      "  File \"/home/janhavi/.local/lib/python3.6/site-packages/joblib/parallel.py\", line 765, in _dispatch\n",
      "    job = self._backend.apply_async(batch, callback=cb)\n",
      "  File \"/home/janhavi/.local/lib/python3.6/site-packages/joblib/_parallel_backends.py\", line 206, in apply_async\n",
      "    result = ImmediateResult(func)\n",
      "  File \"/home/janhavi/.local/lib/python3.6/site-packages/joblib/_parallel_backends.py\", line 570, in __init__\n",
      "    self.results = batch()\n",
      "  File \"/home/janhavi/.local/lib/python3.6/site-packages/joblib/parallel.py\", line 253, in __call__\n",
      "    for func, args, kwargs in self.items]\n",
      "  File \"/home/janhavi/.local/lib/python3.6/site-packages/joblib/parallel.py\", line 253, in <listcomp>\n",
      "    for func, args, kwargs in self.items]\n",
      "  File \"/home/janhavi/.local/lib/python3.6/site-packages/sklearn/linear_model/_logistic.py\", line 758, in _logistic_regression_path\n",
      "    options={\"iprint\": iprint, \"gtol\": tol, \"maxiter\": max_iter}\n",
      "  File \"/home/janhavi/.local/lib/python3.6/site-packages/scipy/optimize/_minimize.py\", line 610, in minimize\n",
      "    callback=callback, **options)\n",
      "  File \"/home/janhavi/.local/lib/python3.6/site-packages/scipy/optimize/lbfgsb.py\", line 322, in _minimize_lbfgsb\n",
      "    wa = zeros(2*m*n + 5*n + 11*m*m + 8*m, float64)\n",
      "MemoryError: Unable to allocate 1.14 GiB for an array with shape (153541430,) and data type float64\n",
      "\n",
      "  FitFailedWarning)\n",
      "/home/janhavi/.local/lib/python3.6/site-packages/sklearn/model_selection/_validation.py:552: FitFailedWarning: Estimator fit failed. The score on this train-test partition for these parameters will be set to nan. Details: \n",
      "Traceback (most recent call last):\n",
      "  File \"/home/janhavi/.local/lib/python3.6/site-packages/sklearn/model_selection/_validation.py\", line 531, in _fit_and_score\n",
      "    estimator.fit(X_train, y_train, **fit_params)\n",
      "  File \"/home/janhavi/.local/lib/python3.6/site-packages/sklearn/linear_model/_logistic.py\", line 1415, in fit\n",
      "    for class_, warm_start_coef_ in zip(classes_, warm_start_coef))\n",
      "  File \"/home/janhavi/.local/lib/python3.6/site-packages/joblib/parallel.py\", line 1029, in __call__\n",
      "    if self.dispatch_one_batch(iterator):\n",
      "  File \"/home/janhavi/.local/lib/python3.6/site-packages/joblib/parallel.py\", line 847, in dispatch_one_batch\n",
      "    self._dispatch(tasks)\n",
      "  File \"/home/janhavi/.local/lib/python3.6/site-packages/joblib/parallel.py\", line 765, in _dispatch\n",
      "    job = self._backend.apply_async(batch, callback=cb)\n",
      "  File \"/home/janhavi/.local/lib/python3.6/site-packages/joblib/_parallel_backends.py\", line 206, in apply_async\n",
      "    result = ImmediateResult(func)\n",
      "  File \"/home/janhavi/.local/lib/python3.6/site-packages/joblib/_parallel_backends.py\", line 570, in __init__\n",
      "    self.results = batch()\n",
      "  File \"/home/janhavi/.local/lib/python3.6/site-packages/joblib/parallel.py\", line 253, in __call__\n",
      "    for func, args, kwargs in self.items]\n",
      "  File \"/home/janhavi/.local/lib/python3.6/site-packages/joblib/parallel.py\", line 253, in <listcomp>\n",
      "    for func, args, kwargs in self.items]\n",
      "  File \"/home/janhavi/.local/lib/python3.6/site-packages/sklearn/linear_model/_logistic.py\", line 758, in _logistic_regression_path\n",
      "    options={\"iprint\": iprint, \"gtol\": tol, \"maxiter\": max_iter}\n",
      "  File \"/home/janhavi/.local/lib/python3.6/site-packages/scipy/optimize/_minimize.py\", line 610, in minimize\n",
      "    callback=callback, **options)\n",
      "  File \"/home/janhavi/.local/lib/python3.6/site-packages/scipy/optimize/lbfgsb.py\", line 322, in _minimize_lbfgsb\n",
      "    wa = zeros(2*m*n + 5*n + 11*m*m + 8*m, float64)\n",
      "MemoryError: Unable to allocate 1.14 GiB for an array with shape (153541430,) and data type float64\n",
      "\n",
      "  FitFailedWarning)\n",
      "/home/janhavi/.local/lib/python3.6/site-packages/sklearn/model_selection/_validation.py:552: FitFailedWarning: Estimator fit failed. The score on this train-test partition for these parameters will be set to nan. Details: \n",
      "Traceback (most recent call last):\n",
      "  File \"/home/janhavi/.local/lib/python3.6/site-packages/sklearn/model_selection/_validation.py\", line 531, in _fit_and_score\n",
      "    estimator.fit(X_train, y_train, **fit_params)\n",
      "  File \"/home/janhavi/.local/lib/python3.6/site-packages/sklearn/linear_model/_logistic.py\", line 1415, in fit\n",
      "    for class_, warm_start_coef_ in zip(classes_, warm_start_coef))\n",
      "  File \"/home/janhavi/.local/lib/python3.6/site-packages/joblib/parallel.py\", line 1029, in __call__\n",
      "    if self.dispatch_one_batch(iterator):\n",
      "  File \"/home/janhavi/.local/lib/python3.6/site-packages/joblib/parallel.py\", line 847, in dispatch_one_batch\n",
      "    self._dispatch(tasks)\n",
      "  File \"/home/janhavi/.local/lib/python3.6/site-packages/joblib/parallel.py\", line 765, in _dispatch\n",
      "    job = self._backend.apply_async(batch, callback=cb)\n",
      "  File \"/home/janhavi/.local/lib/python3.6/site-packages/joblib/_parallel_backends.py\", line 206, in apply_async\n",
      "    result = ImmediateResult(func)\n",
      "  File \"/home/janhavi/.local/lib/python3.6/site-packages/joblib/_parallel_backends.py\", line 570, in __init__\n",
      "    self.results = batch()\n",
      "  File \"/home/janhavi/.local/lib/python3.6/site-packages/joblib/parallel.py\", line 253, in __call__\n",
      "    for func, args, kwargs in self.items]\n",
      "  File \"/home/janhavi/.local/lib/python3.6/site-packages/joblib/parallel.py\", line 253, in <listcomp>\n",
      "    for func, args, kwargs in self.items]\n",
      "  File \"/home/janhavi/.local/lib/python3.6/site-packages/sklearn/linear_model/_logistic.py\", line 758, in _logistic_regression_path\n",
      "    options={\"iprint\": iprint, \"gtol\": tol, \"maxiter\": max_iter}\n",
      "  File \"/home/janhavi/.local/lib/python3.6/site-packages/scipy/optimize/_minimize.py\", line 610, in minimize\n",
      "    callback=callback, **options)\n",
      "  File \"/home/janhavi/.local/lib/python3.6/site-packages/scipy/optimize/lbfgsb.py\", line 322, in _minimize_lbfgsb\n",
      "    wa = zeros(2*m*n + 5*n + 11*m*m + 8*m, float64)\n",
      "MemoryError: Unable to allocate 1.14 GiB for an array with shape (153541430,) and data type float64\n",
      "\n",
      "  FitFailedWarning)\n"
     ]
    },
    {
     "name": "stderr",
     "output_type": "stream",
     "text": [
      "/home/janhavi/.local/lib/python3.6/site-packages/sklearn/model_selection/_validation.py:552: FitFailedWarning: Estimator fit failed. The score on this train-test partition for these parameters will be set to nan. Details: \n",
      "Traceback (most recent call last):\n",
      "  File \"/home/janhavi/.local/lib/python3.6/site-packages/sklearn/model_selection/_validation.py\", line 531, in _fit_and_score\n",
      "    estimator.fit(X_train, y_train, **fit_params)\n",
      "  File \"/home/janhavi/.local/lib/python3.6/site-packages/sklearn/linear_model/_logistic.py\", line 1415, in fit\n",
      "    for class_, warm_start_coef_ in zip(classes_, warm_start_coef))\n",
      "  File \"/home/janhavi/.local/lib/python3.6/site-packages/joblib/parallel.py\", line 1029, in __call__\n",
      "    if self.dispatch_one_batch(iterator):\n",
      "  File \"/home/janhavi/.local/lib/python3.6/site-packages/joblib/parallel.py\", line 847, in dispatch_one_batch\n",
      "    self._dispatch(tasks)\n",
      "  File \"/home/janhavi/.local/lib/python3.6/site-packages/joblib/parallel.py\", line 765, in _dispatch\n",
      "    job = self._backend.apply_async(batch, callback=cb)\n",
      "  File \"/home/janhavi/.local/lib/python3.6/site-packages/joblib/_parallel_backends.py\", line 206, in apply_async\n",
      "    result = ImmediateResult(func)\n",
      "  File \"/home/janhavi/.local/lib/python3.6/site-packages/joblib/_parallel_backends.py\", line 570, in __init__\n",
      "    self.results = batch()\n",
      "  File \"/home/janhavi/.local/lib/python3.6/site-packages/joblib/parallel.py\", line 253, in __call__\n",
      "    for func, args, kwargs in self.items]\n",
      "  File \"/home/janhavi/.local/lib/python3.6/site-packages/joblib/parallel.py\", line 253, in <listcomp>\n",
      "    for func, args, kwargs in self.items]\n",
      "  File \"/home/janhavi/.local/lib/python3.6/site-packages/sklearn/linear_model/_logistic.py\", line 758, in _logistic_regression_path\n",
      "    options={\"iprint\": iprint, \"gtol\": tol, \"maxiter\": max_iter}\n",
      "  File \"/home/janhavi/.local/lib/python3.6/site-packages/scipy/optimize/_minimize.py\", line 610, in minimize\n",
      "    callback=callback, **options)\n",
      "  File \"/home/janhavi/.local/lib/python3.6/site-packages/scipy/optimize/lbfgsb.py\", line 322, in _minimize_lbfgsb\n",
      "    wa = zeros(2*m*n + 5*n + 11*m*m + 8*m, float64)\n",
      "MemoryError: Unable to allocate 1.14 GiB for an array with shape (153541430,) and data type float64\n",
      "\n",
      "  FitFailedWarning)\n"
     ]
    },
    {
     "ename": "AttributeError",
     "evalue": "module 'matplotlib' has no attribute 'show'",
     "output_type": "error",
     "traceback": [
      "\u001b[0;31m---------------------------------------------------------------------------\u001b[0m",
      "\u001b[0;31mAttributeError\u001b[0m                            Traceback (most recent call last)",
      "\u001b[0;32m<ipython-input-16-5ff856b5af30>\u001b[0m in \u001b[0;36m<module>\u001b[0;34m\u001b[0m\n\u001b[1;32m     18\u001b[0m sns.stripplot(x='model_name', y='accuracy', data=cv_df, \n\u001b[1;32m     19\u001b[0m               size=8, jitter=True, edgecolor=\"gray\", linewidth=2)\n\u001b[0;32m---> 20\u001b[0;31m \u001b[0mplt\u001b[0m\u001b[0;34m.\u001b[0m\u001b[0mshow\u001b[0m\u001b[0;34m(\u001b[0m\u001b[0;34m)\u001b[0m\u001b[0;34m\u001b[0m\u001b[0;34m\u001b[0m\u001b[0m\n\u001b[0m",
      "\u001b[0;31mAttributeError\u001b[0m: module 'matplotlib' has no attribute 'show'"
     ]
    },
    {
     "data": {
      "image/png": "[encoded data removed]",
      "text/plain": [
       "<Figure size 432x288 with 1 Axes>"
      ]
     },
     "metadata": {
      "needs_background": "light"
     },
     "output_type": "display_data"
    }
   ],
   "source": [
    "from sklearn.linear_model import LogisticRegression\n",
    "from sklearn.ensemble import RandomForestClassifier\n",
    "from sklearn.svm import LinearSVC\n",
    "from sklearn.model_selection import cross_val_score\n",
    "labels = y\n",
    "models = [RandomForestClassifier(n_estimators=200, max_depth=3, random_state=0), LinearSVC(), MultinomialNB(), LogisticRegression(random_state=0),]\n",
    "CV = 5\n",
    "cv_df = pd.DataFrame(index=range(CV * len(models)))\n",
    "entries = []\n",
    "for model in models:\n",
    "    model_name = model.__class__.__name__\n",
    "    accuracies = cross_val_score(model, features, labels, scoring='accuracy', cv=CV)\n",
    "    for fold_idx, accuracy in enumerate(accuracies):\n",
    "        entries.append((model_name, fold_idx, accuracy))\n",
    "cv_df = pd.DataFrame(entries, columns=['model_name', 'fold_idx', 'accuracy'])\n",
    "import seaborn as sns\n",
    "sns.boxplot(x='model_name', y='accuracy', data=cv_df)\n",
    "sns.stripplot(x='model_name', y='accuracy', data=cv_df, \n",
    "              size=8, jitter=True, edgecolor=\"gray\", linewidth=2)\n"
   ]
  },
  {
   "cell_type": "code",
   "execution_count": 18,
   "metadata": {},
   "outputs": [],
   "source": []
  },
  {
   "cell_type": "code",
   "execution_count": null,
   "metadata": {},
   "outputs": [],
   "source": []
  },
  {
   "cell_type": "code",
   "execution_count": null,
   "metadata": {},
   "outputs": [],
   "source": []
  }
 ],
 "metadata": {
  "kernelspec": {
   "display_name": "Python 3",
   "language": "python",
   "name": "python3"
  },
  "language_info": {
   "codemirror_mode": {
    "name": "ipython",
    "version": 3
   },
   "file_extension": ".py",
   "mimetype": "text/x-python",
   "name": "python",
   "nbconvert_exporter": "python",
   "pygments_lexer": "ipython3",
   "version": "3.6.9"
  }
 },
 "nbformat": 4,
 "nbformat_minor": 4
}
